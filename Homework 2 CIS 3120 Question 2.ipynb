{
 "cells": [
  {
   "cell_type": "code",
   "execution_count": 1,
   "id": "74a426b4",
   "metadata": {},
   "outputs": [],
   "source": [
    "# Import libraries\n",
    "import requests\n",
    "from bs4 import BeautifulSoup\n",
    "import pandas as pd\n",
    "import json"
   ]
  },
  {
   "cell_type": "code",
   "execution_count": 2,
   "id": "72608f6b",
   "metadata": {},
   "outputs": [],
   "source": [
    "#Client ID and SECRET - USE YOUR OWN!\n",
    "CLIENT_ID = '77c50da439bd4375a17d61eb6bc0b0c1'\n",
    "CLIENT_SECRET = 'fbc07d6a0b2942c89b020a4ac3bbf565'\n",
    "\n",
    "AUTH_URL = 'https://accounts.spotify.com/api/token'\n",
    "\n",
    "# POST\n",
    "auth_response = requests.post(AUTH_URL, {\n",
    "    'grant_type': 'client_credentials',\n",
    "    'client_id': CLIENT_ID,\n",
    "    'client_secret': CLIENT_SECRET,\n",
    "})\n",
    "\n",
    "# convert the response to JSON\n",
    "auth_response_data = auth_response.json()\n",
    "\n",
    "# save the access token\n",
    "access_token = auth_response_data['access_token']\n",
    "\n",
    "#creating the headers\n",
    "headers = {\n",
    "    'Authorization': 'Bearer {token}'.format(token=access_token)\n",
    "}"
   ]
  },
  {
   "cell_type": "code",
   "execution_count": 3,
   "id": "37f556ee",
   "metadata": {},
   "outputs": [],
   "source": [
    "# base URL of all Spotify API endpoints\n",
    "BASE_URL = 'https://api.spotify.com/v1/'\n",
    "\n",
    "#justin beiber's spotify link - https://open.spotify.com/artist/ 1uNFoZAHBGtllmzznpCI3s ?si=IFvzRkqJSaaaKFjM-yAiLg"
   ]
  },
  {
   "cell_type": "code",
   "execution_count": 4,
   "id": "367ed0d9",
   "metadata": {},
   "outputs": [],
   "source": [
    "#JUSTIN BEIBER'S ARTIST ID\n",
    "artist_id = '1uNFoZAHBGtllmzznpCI3s'\n",
    "\n",
    "# actual GET request with proper header\n",
    "r = requests.get(BASE_URL + 'artists/' + artist_id  + '/albums', headers=headers)"
   ]
  },
  {
   "cell_type": "code",
   "execution_count": 5,
   "id": "a897f025",
   "metadata": {},
   "outputs": [],
   "source": [
    "track_id = ['2L9N0zZnd37dwF0clgxMGI', '27N0pJsw7yMwewEEgFdklN', '3sTN90bIP2cJ1783ctHykO', '1GsSM1Fju5J1Fsu51jEsTg', '3CblJq8QQQ0bb7vwJu8c3v', '5PJH1U5Iie893v48Fl9yaC', '0dr9SDW7xx2QfrF8ys0CNZ', '5PvVkf1Yuq3XyMqqjPiKPd', '4VMRsbfZzd3SfQtaJ1Wpwi', '111ixdtGqBX2riiqg8m8Xx']\n",
    "\n",
    "Duration = []\n",
    "Loudness = []\n",
    "Tempo = []\n",
    "Time_Signature = []\n",
    "Key = []\n",
    "\n",
    "for track in track_id: \n",
    "    r = requests.get(BASE_URL + 'audio-analysis/' + track, headers=headers)\n",
    "\n",
    "    #extracting the json\n",
    "    data = r.json()\n",
    "\n",
    "    Duration.append(data['track']['duration'])\n",
    "    Loudness.append(data['track']['loudness'])\n",
    "    Tempo.append(data['track']['tempo'])\n",
    "    Time_Signature.append(data['track']['time_signature'])\n",
    "    Key.append(data['track']['key'])\n"
   ]
  },
  {
   "cell_type": "code",
   "execution_count": 6,
   "id": "70fcc835",
   "metadata": {},
   "outputs": [
    {
     "name": "stdout",
     "output_type": "stream",
     "text": [
      "['2L9N0zZnd37dwF0clgxMGI', '27N0pJsw7yMwewEEgFdklN', '3sTN90bIP2cJ1783ctHykO', '1GsSM1Fju5J1Fsu51jEsTg', '3CblJq8QQQ0bb7vwJu8c3v', '5PJH1U5Iie893v48Fl9yaC', '0dr9SDW7xx2QfrF8ys0CNZ', '5PvVkf1Yuq3XyMqqjPiKPd', '4VMRsbfZzd3SfQtaJ1Wpwi', '111ixdtGqBX2riiqg8m8Xx']\n"
     ]
    }
   ],
   "source": [
    "import requests\n",
    "import json\n",
    "\n",
    "# Set up authorization\n",
    "CLIENT_ID = '77c50da439bd4375a17d61eb6bc0b0c1'\n",
    "CLIENT_SECRET = 'fbc07d6a0b2942c89b020a4ac3bbf565'\n",
    "AUTH_URL = 'https://accounts.spotify.com/api/token'\n",
    "\n",
    "# Request access token\n",
    "auth_response = requests.post(AUTH_URL, {\n",
    "    'grant_type': 'client_credentials',\n",
    "    'client_id': CLIENT_ID,\n",
    "    'client_secret': CLIENT_SECRET,\n",
    "})\n",
    "auth_response_data = auth_response.json()\n",
    "access_token = auth_response_data['access_token']\n",
    "\n",
    "# Set up request headers\n",
    "headers = {\n",
    "    'Authorization': 'Bearer {token}'.format(token=access_token)\n",
    "}\n",
    "\n",
    "# Get playlist tracks\n",
    "playlist_id = '0JvKTWY7i21QrbR2d1SHY5'\n",
    "playlist_url = 'https://api.spotify.com/v1/playlists/{playlist_id}/tracks'.format(playlist_id=playlist_id)\n",
    "playlist_response = requests.get(playlist_url, headers=headers)\n",
    "playlist_data = playlist_response.json()\n",
    "\n",
    "# Extract track IDs\n",
    "track_ids = []\n",
    "for item in playlist_data['items']:\n",
    "    track = item['track']\n",
    "    track_ids.append(track['id'])\n",
    "\n",
    "# Print first 10 track IDs\n",
    "print(track_ids[:10])\n"
   ]
  },
  {
   "cell_type": "code",
   "execution_count": 7,
   "id": "3e687ca6",
   "metadata": {},
   "outputs": [],
   "source": [
    "import pandas as pd\n",
    "\n",
    "df = pd.DataFrame()\n",
    "\n",
    "df['Duration'] = Duration\n",
    "df['Loudness'] = Loudness\n",
    "df['Tempo'] = Tempo\n",
    "df['Time_Signature'] = Time_Signature\n",
    "df['Key'] = Key"
   ]
  },
  {
   "cell_type": "code",
   "execution_count": 11,
   "id": "2a403e66",
   "metadata": {},
   "outputs": [
    {
     "name": "stdout",
     "output_type": "stream",
     "text": [
      "    Duration  Loudness    Tempo  Time_Signature  Key\n",
      "0  182.88757   -11.762  148.005               3    9\n",
      "1  236.73060    -5.767   75.475               3    1\n",
      "2  192.16000    -4.997   88.753               4    8\n",
      "3  196.76000    -6.178  167.990               4    8\n",
      "4  190.37320    -9.445  112.046               4    6\n",
      "5  180.00000   -13.693   92.444               4    2\n",
      "6  157.64000    -7.392  133.950               4    1\n",
      "7  223.62988    -9.377  132.798               4    8\n",
      "8  268.23530    -7.277  119.041               4    9\n",
      "9  173.66667    -9.153  105.028               4    4\n"
     ]
    }
   ],
   "source": [
    "print(df)"
   ]
  },
  {
   "cell_type": "code",
   "execution_count": 12,
   "id": "7696ea67",
   "metadata": {},
   "outputs": [],
   "source": [
    "df.to_csv('spotify.csv', index = False)"
   ]
  },
  {
   "cell_type": "code",
   "execution_count": null,
   "id": "5a55c888",
   "metadata": {},
   "outputs": [],
   "source": []
  }
 ],
 "metadata": {
  "kernelspec": {
   "display_name": "Python 3 (ipykernel)",
   "language": "python",
   "name": "python3"
  },
  "language_info": {
   "codemirror_mode": {
    "name": "ipython",
    "version": 3
   },
   "file_extension": ".py",
   "mimetype": "text/x-python",
   "name": "python",
   "nbconvert_exporter": "python",
   "pygments_lexer": "ipython3",
   "version": "3.9.7"
  }
 },
 "nbformat": 4,
 "nbformat_minor": 5
}
