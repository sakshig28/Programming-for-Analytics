{
 "cells": [
  {
   "cell_type": "code",
   "execution_count": null,
   "id": "7b56ee9d",
   "metadata": {},
   "outputs": [
    {
     "name": "stdout",
     "output_type": "stream",
     "text": [
      "Enter a date (format: mm/dd/yy): 01/28/02\n",
      "01/28/02 is the original date\n",
      "01 is the month 28 is the day 02 is the year\n",
      "28-01-02 is the European way of printing\n",
      "January 28, 2002 is the American way of printing\n",
      "01-28-2002 is the full way of printing\n"
     ]
    }
   ],
   "source": [
    "def read_original_date():\n",
    "    date = input(\"Enter a date (format: mm/dd/yy): \")\n",
    "    return date\n",
    "\n",
    "def break_original_date(date):\n",
    "    parts = date.split(\"/\")\n",
    "    month = parts[0]\n",
    "    day = parts[1]\n",
    "    year = parts[2]\n",
    "    print(date + \" is the original date\")\n",
    "    print(month + \" is the month \" + day + \" is the day \" + year + \" is the year\")\n",
    "    return month, day, year\n",
    "\n",
    "def print_date_3_ways(day, month, year):\n",
    "    european = day + \"-\" + month + \"-\" + year\n",
    "    american = get_month_name(month) + \" \" + day + \", 20\" + year\n",
    "    full = month.zfill(2) + \"-\" + day.zfill(2) + \"-\" + \"20\" + year\n",
    "    print(european + \" is the European way of printing\")\n",
    "    print(american + \" is the American way of printing\")\n",
    "    print(full + \" is the full way of printing\")\n",
    "\n",
    "def get_month_name(month):\n",
    "    months = [\"January\", \"February\", \"March\", \"April\", \"May\", \"June\", \"July\", \"August\", \"September\", \"October\", \"November\", \"December\"]\n",
    "    return months[int(month)-1]\n",
    "\n",
    "def main():\n",
    "    while True:\n",
    "        date = read_original_date()\n",
    "        if not date:\n",
    "            break\n",
    "        month, day, year = break_original_date(date)\n",
    "        print_date_3_ways(day, month, year)\n",
    "\n",
    "if __name__ == '__main__':\n",
    "    main()\n"
   ]
  },
  {
   "cell_type": "code",
   "execution_count": null,
   "id": "45b45a37",
   "metadata": {},
   "outputs": [],
   "source": []
  }
 ],
 "metadata": {
  "kernelspec": {
   "display_name": "Python 3 (ipykernel)",
   "language": "python",
   "name": "python3"
  },
  "language_info": {
   "codemirror_mode": {
    "name": "ipython",
    "version": 3
   },
   "file_extension": ".py",
   "mimetype": "text/x-python",
   "name": "python",
   "nbconvert_exporter": "python",
   "pygments_lexer": "ipython3",
   "version": "3.9.7"
  }
 },
 "nbformat": 4,
 "nbformat_minor": 5
}
