{
 "cells": [
  {
   "cell_type": "code",
   "execution_count": null,
   "id": "a699b906",
   "metadata": {},
   "outputs": [
    {
     "name": "stdout",
     "output_type": "stream",
     "text": [
      "This fucntion takes three integer values, calculates the average, and compares each interget to the average.\n",
      "To end the set of data, type any non integer value.\n",
      "Created by Sakshi Gondkar\n",
      "\n"
     ]
    }
   ],
   "source": [
    "#introduction\n",
    "def introduction():\n",
    "    print(\"This fucntion takes three integer values, calculates the average, and compares each interget to the average.\")\n",
    "    print(\"To end the set of data, type any non integer value.\")\n",
    "    print(\"Created by Sakshi Gondkar\\n\")\n",
    "\n",
    "# this is the function to calculate the average of three numbers\n",
    "# parameters: num1, num2, num3\n",
    "# returns average of the three numbers\n",
    "def findaverage(num1, num2, num3):\n",
    "    avg = (num1 + num2 + num3) / 3\n",
    "    return avg\n",
    "\n",
    "# function to compare each number to the average\n",
    "# parameters: num1, num2, num3, avg\n",
    "# prints: Whether each interger is greater than, less than, or equal to the average\n",
    "#the number of values that are equal to the average\n",
    "def comparetoavg(num1, num2, num3, avg):\n",
    "    count = 0\n",
    "    if num1 == avg:\n",
    "        print(f\"{num1} is equal to the average\")\n",
    "        count += 1\n",
    "    elif num1 < avg:\n",
    "        print(f\"{num1} is below the average\")\n",
    "    else:\n",
    "        print(f\"{num1} is above the average\")\n",
    "    if num2 == avg:\n",
    "        print(f\"{num2} is equal to the average\")\n",
    "        count += 1\n",
    "    elif num2 < avg:\n",
    "        print(f\"{num2} is below the average\")\n",
    "    else:\n",
    "        print(f\"{num2} is above the average\")\n",
    "    if num3 == avg:\n",
    "        print(f\"{num3} is equal to the average\")\n",
    "        count += 1\n",
    "    elif num3 < avg:\n",
    "        print(f\"{num3} is below the average\")\n",
    "    else:\n",
    "        print(f\"{num3} is above the average\")\n",
    "    print(f\"{count} value(s) equal to the average\\n\")\n",
    "\n",
    "#define the main function\n",
    "def main():\n",
    "    #print intro\n",
    "    introduction()\n",
    "\n",
    "    set_count = 0\n",
    "    while True:\n",
    "        # Ask for user input\n",
    "        try:\n",
    "            num1 = int(input(\"Enter first integer: \"))\n",
    "            num2 = int(input(\"Enter second integer: \"))\n",
    "            num3 = int(input(\"Enter third integer: \"))\n",
    "        except ValueError:\n",
    "            # Non-integer input, end the program\n",
    "            break\n",
    "\n",
    "        # Print the three original integers\n",
    "        print(f\"the three original integers are: {num1} {num2} {num3}\")\n",
    "\n",
    "        # Calculate the average and print it\n",
    "        avg = findaverage(num1, num2, num3)\n",
    "        print(f\"the average is {avg:.3f}\")\n",
    "\n",
    "        # Compare each integer to the average and print the results\n",
    "        comparetoavg(num1, num2, num3, avg)\n",
    "        set_count += 1\n",
    "\n",
    "    # Print the number of sets processed\n",
    "    print(f\"{set_count} sets of three data values were entered and processed.\")\n",
    "\n",
    "if __name__ == '__main__':\n",
    "    main()\n"
   ]
  },
  {
   "cell_type": "code",
   "execution_count": null,
   "id": "e7862ddb",
   "metadata": {},
   "outputs": [],
   "source": []
  },
  {
   "cell_type": "code",
   "execution_count": null,
   "id": "ce5e7f81",
   "metadata": {},
   "outputs": [],
   "source": []
  }
 ],
 "metadata": {
  "kernelspec": {
   "display_name": "Python 3 (ipykernel)",
   "language": "python",
   "name": "python3"
  },
  "language_info": {
   "codemirror_mode": {
    "name": "ipython",
    "version": 3
   },
   "file_extension": ".py",
   "mimetype": "text/x-python",
   "name": "python",
   "nbconvert_exporter": "python",
   "pygments_lexer": "ipython3",
   "version": "3.9.7"
  }
 },
 "nbformat": 4,
 "nbformat_minor": 5
}
