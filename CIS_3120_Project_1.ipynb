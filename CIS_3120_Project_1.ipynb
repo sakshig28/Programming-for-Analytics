{
 "cells": [
  {
   "cell_type": "code",
   "execution_count": 1,
   "metadata": {
    "id": "2W0z8t-uWNXr"
   },
   "outputs": [],
   "source": [
    "#Urls of all the rosters \n",
    "mens_volleyball = {\n",
    "'City College of New York': 'https://ccnyathletics.com/sports/mens-volleyball/roster',\n",
    "'Lehman College': 'https://lehmanathletics.com/sports/mens-volleyball/roster',\n",
    "'Brooklyn College': 'https://www.brooklyncollegeathletics.com/sports/mens-volleyball/roster',\n",
    "'John Jay College': 'https://johnjayathletics.com/sports/mens-volleyball/roster',\n",
    "'Baruch College': 'https://athletics.baruch.cuny.edu/sports/mens-volleyball/roster',\n",
    "'Medgar Evers College': 'https://mecathletics.com/sports/mens-volleyball/roster',\n",
    "'Hunter College': 'https://www.huntercollegeathletics.com/sports/mens-volleyball/roster',\n",
    "'York College': 'https://yorkathletics.com/sports/mens-volleyball/roster',\n",
    "'Ball State': 'https://ballstatesports.com/sports/mens-volleyball/roster',\n",
    "'Lewis University': 'https://lewisflyers.com/sports/mens-volleyball/roster'\n",
    "}\n",
    "\n",
    "mens_swimming = {\n",
    "'College of Staten Island': 'https://csidolphins.com/sports/mens-swimming-and-diving/roster',\n",
    "'York College': 'https://yorkathletics.com/sports/mens-swimming-and-diving/roster',\n",
    "'Baruch College': 'https://athletics.baruch.cuny.edu/sports/mens-swimming-and-diving/roster',\n",
    "'Brooklyn College': 'https://www.brooklyncollegeathletics.com/sports/mens-swimming-and-diving/roster',\n",
    "'Lindenwood University': 'https://lindenwoodlions.com/sports/mens-swimming-and-diving/roster',\n",
    "'Mckendree University': 'https://mckbearcats.com/sports/mens-swimming-and-diving/roster',\n",
    "'Ramapo College': 'https://ramapoathletics.com/sports/mens-swimming-and-diving/roster',\n",
    "'SUNY Oneota': 'https://oneontaathletics.com/sports/mens-swimming-and-diving/roster',\n",
    "'SUNY Binghamton': 'https://bubearcats.com/sports/mens-swimming-and-diving/roster/2021-22',\n",
    "'Albright College': 'https://albrightathletics.com/sports/mens-swimming-and-diving/roster'\n",
    "}\n",
    "\n",
    "womens_volleyball = {\n",
    "'BMCC': 'https://bmccathletics.com/sports/womens-volleyball/roster',\n",
    "'York College': 'https://yorkathletics.com/sports/womens-volleyball/roster',\n",
    "'Hostos CC': 'https://hostosathletics.com/sports/womens-volleyball/roster',\n",
    "'Bronx CC': 'https://bronxbroncos.com/sports/womens-volleyball/roster/2021',\n",
    "'Queens College': 'https://queensknights.com/sports/womens-volleyball/roster',\n",
    "'Augusta College': 'https://augustajags.com/sports/wvball/roster',\n",
    "'Flagler College': 'https://flaglerathletics.com/sports/womens-volleyball/roster',\n",
    "'Young Harris College': 'https://yhcathletics.com/sports/womens-volleyball/roster',\n",
    "'USC Aiken': 'https://pacersports.com/sports/womens-volleyball/roster',\n",
    "'Penn State - Lock Haven': 'https://www.golhu.com/sports/womens-volleyball/roster'\n",
    "}\n",
    "\n",
    "womens_swimming = {\n",
    "'College of Staten Island': 'https://csidolphins.com/sports/womens-swimming-and-diving/roster',\n",
    "'Queens College': 'https://queensknights.com/sports/womens-swimming-and-diving/roster',\n",
    "'York College': 'https://yorkathletics.com/sports/womens-swimming-and-diving/roster',\n",
    "'Baruch College': 'https://athletics.baruch.cuny.edu/sports/womens-swimming-and-diving/roster/2021-22?path=wswim',\n",
    "'Brooklyn College': 'https://www.brooklyncollegeathletics.com/sports/womens-swimming-and-diving/roster',\n",
    "'Lindenwood University': 'https://lindenwoodlions.com/sports/womens-swimming-and-diving/roster',\n",
    "'Mckendree University': 'https://mckbearcats.com/sports/womens-swimming-and-diving/roster',\n",
    "'Ramapo College': 'https://ramapoathletics.com/sports/womens-swimming-and-diving/roster',\n",
    "'Kean University': 'https://keanathletics.com/sports/womens-swimming-and-diving/roster',\n",
    "'SUNY Oneota': 'https://oneontaathletics.com/sports/womens-swimming-and-diving/roster'\n",
    "}\n",
    "\n",
    "#all rosters put together so we can loop through them\n",
    "all_rosters = {'Mens_Volleyball': mens_volleyball, 'Womens_Volleyball': womens_volleyball, 'Mens_Swimming': mens_swimming, 'Womens_Swimming': womens_swimming}"
   ]
  },
  {
   "cell_type": "code",
   "execution_count": 2,
   "metadata": {
    "id": "uDBJI3jvXxNs"
   },
   "outputs": [],
   "source": [
    "#this function takes in the dictionaries (for example mens_swimming, mens_volleyball etc.) and gets essentially creates a huge data frame after getting all the info from all the links\n",
    "#first part of the function initializes dictionary to pass into pandas .DataFrame to create the final dataframe\n",
    "#the function gathers all the necessary data via webscrape, and appends all the values into the dictionary Series\n",
    "#After scraping all the links and appending it to the dictionary (named d in the function) we create the dataframe by passing 'd' into .DataFrame\n",
    "#finally we return the dataframe for the category (category example: mens_volleyball)\n",
    "\n",
    "def create_df(urls: dict):\n",
    "  #initializing dataframe dictionary\n",
    "  d = {'Name': [], \n",
    "        'Height': []\n",
    "  }\n",
    "\n",
    "  #looping through dictionary with the urls\n",
    "  for key, value in urls.items():\n",
    "\n",
    "    #initiliazing the lists to store our necessary data (height and name of players)\n",
    "    names = []\n",
    "    heights = []\n",
    "\n",
    "    #HTTP connection\n",
    "    url = value\n",
    "    page = requests.get(url)\n",
    "\n",
    "    #BeautifulSouping it for easier scraping\n",
    "    soup = BeautifulSoup(page.content, 'html.parser')\n",
    "    \n",
    "    #focusing on only the players section of website\n",
    "    soup = soup.find('div', {'class': 'sidearm-roster-players-container'})\n",
    "    \n",
    "    #looping through each player info to grab name and height\n",
    "    for player_info in soup.find_all('li', {'class': 'sidearm-roster-player'}):\n",
    "\n",
    "      #getting all heights and appending it to list so that we can manipulate it later\n",
    "      heights.append(player_info.find_all('span', {'class': 'sidearm-roster-player-height'}))\n",
    "      \n",
    "      ##########################print(player_info.find_all('span', {'class': 'sidearm-roster-player-height'}))\n",
    "\n",
    "      #grabbing all names and appending it to list\n",
    "      names.append(player_info.find('div', {'class': 'sidearm-roster-player-name'}).find_all('a'))\n",
    "      \n",
    "      ##########################print(player_info.find('div', {'class': 'sidearm-roster-player-name'}).find_all('a'))\n",
    "\n",
    "\n",
    "    #getting list of names in text format\n",
    "    names = [name[0].get_text() for name in names]\n",
    "\n",
    "    #adding names to dictionary\n",
    "    d['Name'] += names\n",
    "    \n",
    "    #getting list of heights in the correct format. for example 5'9 instead of 5/'9\n",
    "    new_heights = []\n",
    "    for height in heights:\n",
    "      if len(height) != 0:\n",
    "        new_heights.append(height[0].get_text().strip('\"'))\n",
    "      else:\n",
    "        #appending NaN if height does not exist\n",
    "        new_heights.append('NaN')\n",
    "    \n",
    "    #adding heights to dictionary\n",
    "    d['Height'] += new_heights\n",
    "  df = pd.DataFrame(d)\n",
    "  return df\n"
   ]
  },
  {
   "cell_type": "code",
   "execution_count": 3,
   "metadata": {
    "id": "tmGOxgbwWPX-"
   },
   "outputs": [],
   "source": [
    "def convert_to_inches(inp):\n",
    "  #converting height column to inches (the ones that aren't null values)\n",
    "  if inp != \"NaN\":\n",
    "    feet = inp.split(\"'\")[0]\n",
    "    inches = inp.split(\"'\")[1]\n",
    "\n",
    "    height_inches = (int(feet) * 12) + int(inches)\n",
    "    return height_inches\n",
    "  else:\n",
    "    #returning null if height doesn't exist\n",
    "    return np.nan"
   ]
  },
  {
   "cell_type": "code",
   "execution_count": 4,
   "metadata": {
    "colab": {
     "base_uri": "https://localhost:8080/"
    },
    "id": "l_s8h1EHLr16",
    "outputId": "5db8ddbc-d5c0-45ec-fd0b-971fc89b90f3"
   },
   "outputs": [
    {
     "ename": "SyntaxError",
     "evalue": "invalid syntax (3858718789.py, line 37)",
     "output_type": "error",
     "traceback": [
      "\u001b[0;36m  File \u001b[0;32m\"/var/folders/zj/csynbj9x2j3_p8vyvd83tqb40000gn/T/ipykernel_23438/3858718789.py\"\u001b[0;36m, line \u001b[0;32m37\u001b[0m\n\u001b[0;31m    print(\"\")`\u001b[0m\n\u001b[0m             ^\u001b[0m\n\u001b[0;31mSyntaxError\u001b[0m\u001b[0;31m:\u001b[0m invalid syntax\n"
     ]
    }
   ],
   "source": [
    "#initializing dictionary to store averages so we can print it out later\n",
    "graph_d = {}\n",
    "\n",
    "#looping through all rosters to get the CSV files, print top 5 heights, 5 smallest heights per category, print averages of heights\n",
    "for name, dict_url in all_rosters.items():\n",
    "  \n",
    "  #creating dataframe for each group (for example mens_volleyball)\n",
    "  df = create_df(dict_url)\n",
    "\n",
    "  #making height column into inches\n",
    "  df['Height (inches)'] = df['Height'].apply(convert_to_inches)\n",
    "\n",
    "  #creating CSV for each DF\n",
    "  df.to_csv(name + '.csv', index = False)\n",
    "  \n",
    "  #creating df without null values and sorted by height in descending order\n",
    "  sorted_df = df.dropna().sort_values(by='Height (inches)', ascending = False)\n",
    "\n",
    "  #printing average height for certain team (for example Mens Volleyball)\n",
    "  print(f\"Average Height For {name}: {st.mean(list(sorted_df['Height (inches)']))} inches\")\n",
    "  \n",
    "  #storing average heights in dictionary\n",
    "  graph_d[name] = st.mean(list(sorted_df['Height (inches)']))\n",
    "\n",
    "  #dont need the Height (inches) column anymore\n",
    "  sorted_df = sorted_df.drop(columns = ['Height (inches)'])\n",
    "\n",
    "\n",
    "  #printing top 5 Tallest using .head b/c the DF is already sorted\n",
    "  print(f'5 Tallest Players For {name}:')\n",
    "  print(f'{sorted_df.head(5).to_string(index=False)}')\n",
    "  print(\"\")\n",
    "\n",
    "  #printing 5 shortest using .tail b/c DF is already sorted\n",
    "  print(f'5 Shortest Players For {name}:')\n",
    "  print(f'{sorted_df.tail(5).to_string(index=False)}')\n",
    "  print(\"\")`"
   ]
  },
  {
   "cell_type": "code",
   "execution_count": null,
   "metadata": {
    "colab": {
     "base_uri": "https://localhost:8080/"
    },
    "id": "TjXJfgKyikeB",
    "outputId": "90173409-e749-496a-fa97-21557d34595e"
   },
   "outputs": [],
   "source": [
    "#Average Heights for All Teams\n",
    "graph_d"
   ]
  },
  {
   "cell_type": "code",
   "execution_count": null,
   "metadata": {
    "id": "Os5x5J8L02Uv"
   },
   "outputs": [],
   "source": [
    "#importing necessary libraries\n",
    "import numpy as np\n",
    "import pandas as pd\n",
    "\n",
    "from bs4 import BeautifulSoup\n",
    "import requests\n",
    "import statistics as st\n",
    "\n",
    "#for graphing purposes\n",
    "import matplotlib.pyplot as plt\n"
   ]
  },
  {
   "cell_type": "code",
   "execution_count": null,
   "metadata": {
    "colab": {
     "base_uri": "https://localhost:8080/",
     "height": 367
    },
    "id": "B0b-4rzYlDbN",
    "outputId": "040e4bb6-7bdd-4c14-a58e-ec20a0b2c366"
   },
   "outputs": [],
   "source": [
    "#creating a bar chart for distribution of all Average Heights\n",
    "fig = plt.figure()\n",
    "ax = fig.add_axes([0,0,1,1])\n",
    "x_axis = graph_d.keys()\n",
    "y_axis = graph_d.values()\n",
    "ax.bar(x_axis,y_axis)\n",
    "plt.title(\"Average Heights of Team Categories\")\n",
    "plt.xlabel(\"Team Category\")\n",
    "plt.ylabel(\"Height (inches)\")\n",
    "plt.show()"
   ]
  },
  {
   "cell_type": "code",
   "execution_count": null,
   "metadata": {},
   "outputs": [],
   "source": []
  },
  {
   "cell_type": "code",
   "execution_count": null,
   "metadata": {},
   "outputs": [],
   "source": []
  },
  {
   "cell_type": "code",
   "execution_count": null,
   "metadata": {},
   "outputs": [],
   "source": []
  }
 ],
 "metadata": {
  "colab": {
   "provenance": []
  },
  "kernelspec": {
   "display_name": "Python 3 (ipykernel)",
   "language": "python",
   "name": "python3"
  },
  "language_info": {
   "codemirror_mode": {
    "name": "ipython",
    "version": 3
   },
   "file_extension": ".py",
   "mimetype": "text/x-python",
   "name": "python",
   "nbconvert_exporter": "python",
   "pygments_lexer": "ipython3",
   "version": "3.9.7"
  }
 },
 "nbformat": 4,
 "nbformat_minor": 1
}
